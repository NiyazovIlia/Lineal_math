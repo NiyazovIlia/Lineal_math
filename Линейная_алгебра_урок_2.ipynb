{
  "nbformat": 4,
  "nbformat_minor": 0,
  "metadata": {
    "colab": {
      "name": "Линейная алгебра урок 2.ipynb",
      "provenance": [],
      "collapsed_sections": [],
      "authorship_tag": "ABX9TyObB7G/upP849sRI6cRrlZ5",
      "include_colab_link": true
    },
    "kernelspec": {
      "name": "python3",
      "display_name": "Python 3"
    },
    "language_info": {
      "name": "python"
    }
  },
  "cells": [
    {
      "cell_type": "markdown",
      "metadata": {
        "id": "view-in-github",
        "colab_type": "text"
      },
      "source": [
        "<a href=\"https://colab.research.google.com/github/NiyazovIlia/Lineal_math/blob/lesson-2/%D0%9B%D0%B8%D0%BD%D0%B5%D0%B9%D0%BD%D0%B0%D1%8F_%D0%B0%D0%BB%D0%B3%D0%B5%D0%B1%D1%80%D0%B0_%D1%83%D1%80%D0%BE%D0%BA_2.ipynb\" target=\"_parent\"><img src=\"https://colab.research.google.com/assets/colab-badge.svg\" alt=\"Open In Colab\"/></a>"
      ]
    },
    {
      "cell_type": "markdown",
      "metadata": {
        "id": "n0_3rTzTk-dW"
      },
      "source": [
        "Установить, какие произведения матриц  AB  и  BA  определены, и найти размерности полученных матриц:\n",
        "\n",
        "а)  A  — матрица  4×2 ,  B  — матрица  4×2 ;\n",
        "\n",
        "б)  A  — матрица  2×5 ,  B  — матрица  5×3 ;\n",
        "\n",
        "в)  A  — матрица  8×3 ,  B  — матрица  3×8 ;\n",
        "\n",
        "г)  A  — квадратная матрица  4×4 ,  B  — квадратная матрица  4×4"
      ]
    },
    {
      "cell_type": "code",
      "metadata": {
        "colab": {
          "base_uri": "https://localhost:8080/"
        },
        "id": "xDVGBwjVk4nO",
        "outputId": "493cfb36-3334-42cc-c2e3-dce790325f17"
      },
      "source": [
        "# матрицы определены: а (если использовать транспонирование), в и г\n",
        "# Проверка\n",
        "import numpy as np\n",
        "a = np.array([[1, 2], [4, 5], [7, 8], [10, 11]])\n",
        "b = np.array([[1, 2], [4, 5], [7, 8], [10, 11]])\n",
        "print(f'{np.dot(a,b.T)}\\n')\n",
        "\n",
        "a = np.array([[1, 2, 3], [4, 5, 6], [7, 8, 9], [10, 11, 12],[1, 2, 3], [4, 5, 6], [7, 8, 9], [10, 11, 12]])\n",
        "b = np.array([[1, 2, 3, 4, 5, 6, 7, 8], [1, 2, 3, 4, 5, 6, 7, 8], [1, 2, 3, 4, 5, 6, 7, 8]])\n",
        "print(f'{np.dot(a,b)}\\n')\n",
        "\n",
        "a = np.array([[1, 2, 3, 4], [4, 5, 6, 7], [7, 8, 9, 10], [10, 11, 12, 13]])\n",
        "b = np.array([[1, 2, 3, 4], [1, 2, 3, 4], [1, 2, 3, 4], [1, 2, 3, 4]])\n",
        "print(f'{np.dot(a,b)}\\n')"
      ],
      "execution_count": 1,
      "outputs": [
        {
          "output_type": "stream",
          "text": [
            "[[  5  14  23  32]\n",
            " [ 14  41  68  95]\n",
            " [ 23  68 113 158]\n",
            " [ 32  95 158 221]]\n",
            "\n",
            "[[  6  12  18  24  30  36  42  48]\n",
            " [ 15  30  45  60  75  90 105 120]\n",
            " [ 24  48  72  96 120 144 168 192]\n",
            " [ 33  66  99 132 165 198 231 264]\n",
            " [  6  12  18  24  30  36  42  48]\n",
            " [ 15  30  45  60  75  90 105 120]\n",
            " [ 24  48  72  96 120 144 168 192]\n",
            " [ 33  66  99 132 165 198 231 264]]\n",
            "\n",
            "[[ 10  20  30  40]\n",
            " [ 22  44  66  88]\n",
            " [ 34  68 102 136]\n",
            " [ 46  92 138 184]]\n",
            "\n"
          ],
          "name": "stdout"
        }
      ]
    },
    {
      "cell_type": "markdown",
      "metadata": {
        "id": "WJmj4G2zoOKx"
      },
      "source": [
        "Найти сумму и произведение матриц $A=\\begin{pmatrix}\n",
        "1 & -2\\\\ \n",
        "3 & 0\n",
        "\\end{pmatrix}$ и $B=\\begin{pmatrix}\n",
        "4 & -1\\\\ \n",
        "0 & 5\n",
        "\\end{pmatrix}.$\n",
        "\n",
        "Сложение получается: $С=\\begin{pmatrix}\n",
        "5 & -3\\\\ \n",
        "3 & 5\n",
        "\\end{pmatrix}$\n",
        "\n",
        "Умножение получается: $С=\\begin{pmatrix}\n",
        "(1*4)+(-2*0) & (1*-1)+(-2*5)\\\\ \n",
        "(3*4)+(0*0) & (3*-1)+(0*5)\n",
        "\\end{pmatrix}$  $С=\\begin{pmatrix}\n",
        "4 & -11\\\\ \n",
        "12 & -3\n",
        "\\end{pmatrix}.$"
      ]
    },
    {
      "cell_type": "code",
      "metadata": {
        "colab": {
          "base_uri": "https://localhost:8080/"
        },
        "id": "GUuoecCeoOuz",
        "outputId": "9f42a9f7-3b00-4009-e221-bf7ff27a1d72"
      },
      "source": [
        "# Проверка\n",
        "a = np.array([[1, -2], [3, 0]])\n",
        "b = np.array([[4, -1], [0, 5]])\n",
        "print(f\"Умножение:\\n {np.dot(a,b)}\")\n",
        "print(f\"Сложение:\\n {a+b}\")"
      ],
      "execution_count": 2,
      "outputs": [
        {
          "output_type": "stream",
          "text": [
            "Умножение:\n",
            " [[  4 -11]\n",
            " [ 12  -3]]\n",
            "Сложение:\n",
            " [[ 5 -3]\n",
            " [ 3  5]]\n"
          ],
          "name": "stdout"
        }
      ]
    },
    {
      "cell_type": "markdown",
      "metadata": {
        "id": "-QJYYbNxqe-z"
      },
      "source": [
        "Из закономерностей сложения и умножения матриц на число можно сделать вывод, что матрицы одного размера образуют линейное пространство. Вычислить линейную комбинацию $3A-2B+4C$ для матриц $A=\\begin{pmatrix}\n",
        "1 & 7\\\\ \n",
        "3 & -6\n",
        "\\end{pmatrix}$, $B=\\begin{pmatrix}\n",
        "0 & 5\\\\ \n",
        "2 & -1\n",
        "\\end{pmatrix}$, $C=\\begin{pmatrix}\n",
        "2 & -4\\\\ \n",
        "1 & 1\n",
        "\\end{pmatrix}.$\n",
        "\n",
        "$3A=\\begin{pmatrix}\n",
        "3 & 21\\\\ \n",
        "9 & -18\n",
        "\\end{pmatrix}$, $2B=\\begin{pmatrix}\n",
        "0 & 10\\\\ \n",
        "4 & -2\n",
        "\\end{pmatrix}$, $4C=\\begin{pmatrix}\n",
        "8 & -16\\\\ \n",
        "4 & 4\n",
        "\\end{pmatrix}.$\n",
        "\n",
        "\n",
        "$3A - 2B + 4C=\\begin{pmatrix}\n",
        "11 & -5\\\\ \n",
        "9 & -12\n",
        "\\end{pmatrix}.$"
      ]
    },
    {
      "cell_type": "code",
      "metadata": {
        "colab": {
          "base_uri": "https://localhost:8080/"
        },
        "id": "EmfcaZAcqfls",
        "outputId": "178db57f-f8ee-4bdd-825d-b47a7e68a47e"
      },
      "source": [
        "a = np.array([[1, 7], [3, -6]])\n",
        "b = np.array([[0, 5], [2, -1]])\n",
        "c = np.array([[2, -4], [1, 1]])\n",
        "a_new = 3*a\n",
        "b_new = 2*b\n",
        "c_new = 4*c\n",
        "print(f'Результат:\\n {a_new-b_new+c_new}')"
      ],
      "execution_count": 3,
      "outputs": [
        {
          "output_type": "stream",
          "text": [
            "Результат:\n",
            " [[ 11  -5]\n",
            " [  9 -12]]\n"
          ],
          "name": "stdout"
        }
      ]
    },
    {
      "cell_type": "markdown",
      "metadata": {
        "id": "Ag1xwWvvtg6d"
      },
      "source": [
        "Дана матрица $A=\\begin{pmatrix}\n",
        "4 & 1\\\\ \n",
        "5 & -2\\\\ \n",
        "2 & 3\n",
        "\\end{pmatrix}$.\n",
        "Вычислить $AA^{T}$ и $A^{T}A$.\n",
        "\n",
        "$A.T=\\begin{pmatrix}\n",
        "4 & 5 & 2\\\\ \n",
        "1 & -2 & 3\\\\ \n",
        "\\end{pmatrix}$."
      ]
    },
    {
      "cell_type": "code",
      "metadata": {
        "colab": {
          "base_uri": "https://localhost:8080/"
        },
        "id": "CE6s7SGythrs",
        "outputId": "a24efaab-3996-4134-ce28-3d7b558d3dc0"
      },
      "source": [
        "a = np.array([[4, 1], [5, -2], [2, 3]])\n",
        "b = a.T\n",
        "print(f'Первый результат:\\n {np.dot(a,b)}')\n",
        "print(f'Второй результат:\\n {np.dot(b,a)}')"
      ],
      "execution_count": 4,
      "outputs": [
        {
          "output_type": "stream",
          "text": [
            "Первый результат:\n",
            " [[17 18 11]\n",
            " [18 29  4]\n",
            " [11  4 13]]\n",
            "Второй результат:\n",
            " [[45  0]\n",
            " [ 0 14]]\n"
          ],
          "name": "stdout"
        }
      ]
    },
    {
      "cell_type": "markdown",
      "metadata": {
        "id": "aawmsvGvuIUK"
      },
      "source": [
        "Написать на Python функцию для перемножения двух произвольных матриц, не используя NumPy."
      ]
    },
    {
      "cell_type": "code",
      "metadata": {
        "colab": {
          "base_uri": "https://localhost:8080/"
        },
        "id": "sH_j6ip0uIyl",
        "outputId": "24f32a25-d26a-4bbd-9819-c5f2b1981f45"
      },
      "source": [
        "import numpy as np\n",
        "import random\n",
        " \n",
        " \n",
        "def multiplication(a,b,line1,column2,line2):\n",
        "    if column2 == line1:\n",
        "        result = []\n",
        "        result_2 = []\n",
        "        for i in range(line1):\n",
        "            for j in range(column2):\n",
        "                s = 0\n",
        "                for k in range(line2):\n",
        "                    s = s + a[i][k] * b[k][j]\n",
        "                result_2.append(s)\n",
        "            result.append(result_2)\n",
        "            result_2 = []\n",
        "        return np.array(result)\n",
        " \n",
        " \n",
        "n1 = int(input('Введите количество строк в 1 матрице: '))\n",
        "m1 = int(input('Введите количество столбцов в 1 матрице: '))\n",
        "n2 = int(input('Введите количество строк во 2 матрице: '))\n",
        "m2 = int(input('Введите количество столбцов во 2 матрице: '))\n",
        " \n",
        "matrix1 = [[random.randint(0,10) for i in range(m1)] for j in range(n1)]\n",
        "matrix2 = [[random.randint(0,10) for k in range(m2)] for l in range(n2)]\n",
        " \n",
        " \n",
        "print('1 матрица: ')\n",
        "print(np.array(matrix1))\n",
        "print('2 матрица: ')\n",
        "print(np.array(matrix2))\n",
        "print('умножение этих матриц: ')\n",
        "print(multiplication(np.array(matrix1),np.array(matrix2),n1,m2,n2))"
      ],
      "execution_count": 5,
      "outputs": [
        {
          "output_type": "stream",
          "text": [
            "Введите количество строк в 1 матрице: 2\n",
            "Введите количество столбцов в 1 матрице: 3\n",
            "Введите количество строк во 2 матрице: 3\n",
            "Введите количество столбцов во 2 матрице: 2\n",
            "1 матрица: \n",
            "[[3 8 9]\n",
            " [9 8 9]]\n",
            "2 матрица: \n",
            "[[10  4]\n",
            " [ 5  6]\n",
            " [ 5 10]]\n",
            "умножение этих матриц: \n",
            "[[115 150]\n",
            " [175 174]]\n"
          ],
          "name": "stdout"
        }
      ]
    },
    {
      "cell_type": "markdown",
      "metadata": {
        "id": "EA0ymE07_Olw"
      },
      "source": [
        "Вычислить определитель:\n",
        "\n",
        "   a)\n",
        "\n",
        "$$\\begin{vmatrix}\n",
        "sinx & -cosx\\\\ \n",
        "cosx & sinx\n",
        "\\end{vmatrix};$$\n",
        "\n",
        "   б)\n",
        "    \n",
        "$$\\begin{vmatrix}\n",
        "4 & 2 & 3\\\\ \n",
        "0 & 5 & 1\\\\ \n",
        "0 & 0 & 9\n",
        "\\end{vmatrix};$$\n",
        "    \n",
        "   в)\n",
        "\n",
        "$$\\begin{vmatrix}\n",
        "1 & 2 & 3\\\\ \n",
        "4 & 5 & 6\\\\ \n",
        "7 & 8 & 9\n",
        "\\end{vmatrix}.$$"
      ]
    },
    {
      "cell_type": "code",
      "metadata": {
        "colab": {
          "base_uri": "https://localhost:8080/"
        },
        "id": "g_wSHysw_PxI",
        "outputId": "78ebc8fa-9fd7-4174-e11c-d6ce792f0e20"
      },
      "source": [
        "# определитель в а = (sinx)^2 + (cosx)^2, в б = 180, в с = 6\n",
        "# проверка\n",
        "import scipy.linalg\n",
        "\n",
        "a = np.array([[4, 2, 3], [0, 5, 1], [0, 0, 9]])\n",
        "print(f'Матрица:\\n{a}')\n",
        "print(f'Определитель:\\n{np.linalg.det(a):.0f}')\n",
        "\n",
        "a = np.array([[1, 2, 3], [5, 5, 6], [7, 8, 9]])\n",
        "print(f'Матрица:\\n{a}')\n",
        "print(f'Определитель:\\n{np.linalg.det(a):.0f}')"
      ],
      "execution_count": 6,
      "outputs": [
        {
          "output_type": "stream",
          "text": [
            "Матрица:\n",
            "[[4 2 3]\n",
            " [0 5 1]\n",
            " [0 0 9]]\n",
            "Определитель:\n",
            "180\n",
            "Матрица:\n",
            "[[1 2 3]\n",
            " [5 5 6]\n",
            " [7 8 9]]\n",
            "Определитель:\n",
            "6\n"
          ],
          "name": "stdout"
        }
      ]
    },
    {
      "cell_type": "markdown",
      "metadata": {
        "id": "bHJAkxlIAbbZ"
      },
      "source": [
        "Определитель матрицы $A$ равен $4$. Найти:\n",
        "\n",
        "   а) $det(A^{2})$ = 16\n",
        "    \n",
        "   б) $det(A^{T})$ = 4 \n",
        "    \n",
        "   в) $det(2A)$ = 8"
      ]
    },
    {
      "cell_type": "markdown",
      "metadata": {
        "id": "DOkLEOykBNeT"
      },
      "source": [
        "Доказать, что матрица\n",
        "\n",
        "$$\\begin{pmatrix}\n",
        "-2 & 7 & -3\\\\ \n",
        "4 & -14 & 6\\\\ \n",
        "-3 & 7 & 13\n",
        "\\end{pmatrix}$$\n",
        "   \n",
        "вырожденная."
      ]
    },
    {
      "cell_type": "code",
      "metadata": {
        "colab": {
          "base_uri": "https://localhost:8080/"
        },
        "id": "e7UOMqzuAb8a",
        "outputId": "ad568ffc-9e68-42a2-9e32-71895b3722d3"
      },
      "source": [
        "# Матрица называется сингулярной, или вырожденной, если ее определитель равен нулю. Определитель данной матрицы будет равен 0, следовательно из определения\n",
        "# она вырожденная\n",
        "a = np.array([[-2, 7, -3], [4, -14, 6], [-3, 7, 13]])\n",
        "print(f'Матрица:\\n{a}')\n",
        "print(f'Определитель:\\n{np.linalg.det(a):.0f}')"
      ],
      "execution_count": 7,
      "outputs": [
        {
          "output_type": "stream",
          "text": [
            "Матрица:\n",
            "[[ -2   7  -3]\n",
            " [  4 -14   6]\n",
            " [ -3   7  13]]\n",
            "Определитель:\n",
            "0\n"
          ],
          "name": "stdout"
        }
      ]
    },
    {
      "cell_type": "markdown",
      "metadata": {
        "id": "XZ5FTHbFBsqw"
      },
      "source": [
        "Найти ранг матрицы:\n",
        "\n",
        "   а) $\\begin{pmatrix}\n",
        "1 & 2 & 3\\\\ \n",
        "1 & 1 & 1\\\\ \n",
        "2 & 3 & 4\n",
        "\\end{pmatrix};$\n",
        "\n",
        "   б) $\\begin{pmatrix}\n",
        "0 & 0 & 2 & 1\\\\ \n",
        "0 & 0 & 2 & 2\\\\ \n",
        "0 & 0 & 4 & 3\\\\ \n",
        "2 & 3 & 5 & 6\n",
        "\\end{pmatrix}.$"
      ]
    },
    {
      "cell_type": "code",
      "metadata": {
        "colab": {
          "base_uri": "https://localhost:8080/"
        },
        "id": "36hMy7QLBtWA",
        "outputId": "3b1ad600-b21f-4dc9-8781-ac9f61903364"
      },
      "source": [
        "# ранг первой матрицы будет равен 2, так как 3 строка является суммой первой и второй\n",
        "# ранг второй матрицы будет равен 3, так как 3 строка является суммой первой и второй\n",
        "x = [1,2,3]\n",
        "y = [1,1,1]\n",
        "z = [2,3,4]\n",
        "\n",
        "a = np.array([x, y, z])\n",
        "r = np.linalg.matrix_rank(a)\n",
        "\n",
        "print(f'Ранг матрицы: {r}')\n",
        "\n",
        "x = [0,0,2,1]\n",
        "y = [0,0,2,2]\n",
        "z = [0,0,4,3]\n",
        "w = [2,3,5,6]\n",
        "\n",
        "a = np.array([x, y, z, w])\n",
        "r = np.linalg.matrix_rank(a)\n",
        "\n",
        "print(f'Ранг матрицы: {r}')"
      ],
      "execution_count": 8,
      "outputs": [
        {
          "output_type": "stream",
          "text": [
            "Ранг матрицы: 2\n",
            "Ранг матрицы: 3\n"
          ],
          "name": "stdout"
        }
      ]
    }
  ]
}