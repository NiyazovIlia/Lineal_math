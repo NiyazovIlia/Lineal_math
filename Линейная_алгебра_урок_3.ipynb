{
  "nbformat": 4,
  "nbformat_minor": 0,
  "metadata": {
    "colab": {
      "name": "Линейная алгебра урок 3.ipynb",
      "provenance": [],
      "collapsed_sections": [],
      "authorship_tag": "ABX9TyPzMjY648pfvu9F1PDafUGG",
      "include_colab_link": true
    },
    "kernelspec": {
      "name": "python3",
      "display_name": "Python 3"
    },
    "language_info": {
      "name": "python"
    }
  },
  "cells": [
    {
      "cell_type": "markdown",
      "metadata": {
        "id": "view-in-github",
        "colab_type": "text"
      },
      "source": [
        "<a href=\"https://colab.research.google.com/github/NiyazovIlia/Lineal_math/blob/lesson-3/%D0%9B%D0%B8%D0%BD%D0%B5%D0%B9%D0%BD%D0%B0%D1%8F_%D0%B0%D0%BB%D0%B3%D0%B5%D0%B1%D1%80%D0%B0_%D1%83%D1%80%D0%BE%D0%BA_3.ipynb\" target=\"_parent\"><img src=\"https://colab.research.google.com/assets/colab-badge.svg\" alt=\"Open In Colab\"/></a>"
      ]
    },
    {
      "cell_type": "markdown",
      "metadata": {
        "id": "ljXSVjNRtb-I"
      },
      "source": [
        "**Задание № 1**\n",
        "Найти собственные векторы и собственные значения для линейного оператора, заданного матрицей\n",
        "\n",
        "$$A=\\begin{pmatrix}\n",
        "-1 & -6\\\\ \n",
        "2 & 6\n",
        "\\end{pmatrix}.$$"
      ]
    },
    {
      "cell_type": "code",
      "metadata": {
        "id": "wHCRgX_csdY_"
      },
      "source": [
        "import numpy as np\n",
        "np.set_printoptions(precision=2, suppress=True)"
      ],
      "execution_count": null,
      "outputs": []
    },
    {
      "cell_type": "code",
      "metadata": {
        "colab": {
          "base_uri": "https://localhost:8080/"
        },
        "id": "J66TgthOud5u",
        "outputId": "438154bb-220c-46b4-9ea6-6737c15ac4ac"
      },
      "source": [
        "a = np.array([[-1, -6], [2, 6]])\n",
        "w, v = np.linalg.eig(a)\n",
        "\n",
        "print(f'Матрица A:\\n{a}')\n",
        "print(f'Собственные значения:\\n{w}')\n",
        "print(f'Собственные векторы:\\n{v}')\n",
        "\n",
        "print(f'\\nv0\\n{v[:, 0]}')\n",
        "print(f'v1\\n{v.T[1]}')\n",
        "print(f'\\n{v.T[1].dot(v.T[1])}')"
      ],
      "execution_count": null,
      "outputs": [
        {
          "output_type": "stream",
          "text": [
            "Матрица A:\n",
            "[[-1 -6]\n",
            " [ 2  6]]\n",
            "Собственные значения:\n",
            "[2. 3.]\n",
            "Собственные векторы:\n",
            "[[-0.89  0.83]\n",
            " [ 0.45 -0.55]]\n",
            "\n",
            "v0\n",
            "[-0.89  0.45]\n",
            "v1\n",
            "[ 0.83 -0.55]\n",
            "\n",
            "1.0\n"
          ],
          "name": "stdout"
        }
      ]
    },
    {
      "cell_type": "markdown",
      "metadata": {
        "id": "NqqYGyinxXbB"
      },
      "source": [
        "**Задание № 2**\n",
        "Дан оператор поворота на 180 градусов, задаваемый матрицей \n",
        "\n",
        "$$A=\\begin{pmatrix}\n",
        "-1 & 0\\\\ \n",
        "0 & -1\n",
        "\\end{pmatrix}.$$\n",
        "\n",
        "Показать, что __любой__ вектор является для него собственным.\n",
        "\n",
        "**Получаем:**\n",
        "\n",
        "Проверим через характеристическое уравнение (-1-альфа)^2 = 0, из чего получаем что наш альфа и 1 и 2 равны -1.\n",
        "\n",
        "Когда подставим эти значения в матрицу, у нас получается, что все значения равны 0, из чего следует что абсолютно любые ветора являются для него собсвтенным"
      ]
    },
    {
      "cell_type": "markdown",
      "metadata": {
        "id": "KvEU6x6szEL6"
      },
      "source": [
        "**Задание № 3**\n",
        "Пусть линейный оператор задан матрицей\n",
        "\n",
        "$$A=\\begin{pmatrix}\n",
        "1 & 1\\\\ \n",
        "-1 & 3\n",
        "\\end{pmatrix}.$$\n",
        "\n",
        "Установить, является ли вектор $x=(1,1)$ собственным вектором этого линейного оператора.\n",
        "\n",
        "**Получаем:**\n",
        "$$\\begin{cases}\n",
        "1+1=1\\cdot\\lambda \\\\ \n",
        "-1+3 = 1\\cdot \\lambda\n",
        "\\end{cases}\n",
        "\\Rightarrow\n",
        "\\begin{cases}\n",
        "\\lambda=2\\\\ \n",
        "\\lambda=2\n",
        "\\end{cases}.$$\n",
        "\n",
        "Получается, что вектор $x=(1,1)$ является собственным вектором этого линейного оператора."
      ]
    },
    {
      "cell_type": "markdown",
      "metadata": {
        "id": "sy6PvY2p1Ze5"
      },
      "source": [
        "**Задание № 4**\n",
        "Пусть линейный оператор задан матрицей\n",
        "\n",
        "$$A=\\begin{pmatrix}\n",
        "0 & 3 & 0\\\\ \n",
        "3 & 0 & 0\\\\\n",
        "0 & 0 & 3\n",
        "\\end{pmatrix}.$$\n",
        "\n",
        "Установить, является ли вектор $x=(3, -3, -4)$ собственным вектором этого линейного оператора.\n",
        "\n",
        "**Получаем:**\n",
        "$$\\begin{cases}\n",
        "0-9+0=3\\cdot\\lambda \\\\ \n",
        "9+0+0 = -3\\cdot \\lambda \\\\\n",
        "0+0-12 = -4\\cdot \\lambda\n",
        "\\end{cases}\n",
        "\\Rightarrow\n",
        "\\begin{cases}\n",
        "\\lambda=-3\\\\ \n",
        "\\lambda=-3\\\\ \n",
        "\\lambda=3\n",
        "\\end{cases}.$$\n",
        "\n",
        "Получается, что вектор $x=(3, -3, -4)$ не является собственным вектором этого линейного оператора."
      ]
    }
  ]
}